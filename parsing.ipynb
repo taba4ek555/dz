{
  "nbformat": 4,
  "nbformat_minor": 0,
  "metadata": {
    "colab": {
      "provenance": []
    },
    "kernelspec": {
      "name": "python3",
      "display_name": "Python 3"
    },
    "language_info": {
      "name": "python"
    }
  },
  "cells": [
    {
      "cell_type": "code",
      "execution_count": 30,
      "metadata": {
        "id": "XvrndVG3QTb7"
      },
      "outputs": [],
      "source": [
        "#Импортирование всех библиотек\n",
        "import requests\n",
        "from bs4 import BeautifulSoup\n",
        "import pandas as pd\n",
        "import time"
      ]
    },
    {
      "cell_type": "code",
      "source": [
        "#Создание функции парсинга\n",
        "def parse_site(url):\n",
        "    try:\n",
        "        response = requests.get(url)\n",
        "        response.raise_for_status()  # Проверка на ошибки HTTP\n",
        "        soup = BeautifulSoup(response.content, 'html.parser')\n",
        "\n",
        "        texts = []\n",
        "\n",
        "        # Извлечение текстов из всех <p> тегов\n",
        "        for paragraph in soup.find_all('p'):\n",
        "            text = paragraph.get_text(strip=True)\n",
        "            if text:  # Проверяем, что текст не пустой\n",
        "                texts.append(text)\n",
        "\n",
        "        return texts\n",
        "    except Exception as e:\n",
        "        print(f\"Ошибка при парсинге {url}: {e}\")\n",
        "        return []"
      ],
      "metadata": {
        "id": "ObVgai0KRJ7F"
      },
      "execution_count": 31,
      "outputs": []
    },
    {
      "cell_type": "code",
      "source": [
        "urls = [\n",
        "    'https://cyberleninka.ru/article/n/gormonalnaya-regulyatsiya-organizma' #Сайт с гормонами\n",
        "\n",
        "]\n",
        "\n",
        "all_texts = []"
      ],
      "metadata": {
        "id": "XTqDTr-ORq53"
      },
      "execution_count": 32,
      "outputs": []
    },
    {
      "cell_type": "code",
      "source": [
        "# Парсим каждый сайт\n",
        "for url in urls:\n",
        "    print(f\"Парсинг {url}...\")\n",
        "    texts = parse_site(url)\n",
        "    all_texts.extend(texts)\n",
        "    time.sleep(1)  # Задержка между запросами, чтобы не перегружать сервер"
      ],
      "metadata": {
        "colab": {
          "base_uri": "https://localhost:8080/"
        },
        "id": "CxzpCWYzR_fj",
        "outputId": "51e897d5-2f1c-46ee-b915-b27dd0f6da16"
      },
      "execution_count": 33,
      "outputs": [
        {
          "output_type": "stream",
          "name": "stdout",
          "text": [
            "Парсинг https://cyberleninka.ru/article/n/gormonalnaya-regulyatsiya-organizma...\n"
          ]
        }
      ]
    },
    {
      "cell_type": "code",
      "source": [
        "# Удаляем дубликаты и ограничиваем количество текстов до 5000\n",
        "all_texts = list(set(all_texts))[:5000]"
      ],
      "metadata": {
        "id": "2RpO5N_NSDE6"
      },
      "execution_count": 34,
      "outputs": []
    },
    {
      "cell_type": "code",
      "source": [
        "# Создание DataFrame и сохранение в CSV\n",
        "df = pd.DataFrame(all_texts, columns=['Text'])\n",
        "df.to_csv('dataset.csv', index=False)\n",
        "\n",
        "print(f\"Собрано текстов: {len(all_texts)}\")\n",
        "print(\"Датасет сохранен в файл dataset.csv\")"
      ],
      "metadata": {
        "colab": {
          "base_uri": "https://localhost:8080/"
        },
        "id": "RWUpJg_8SLK_",
        "outputId": "6e48c326-6a5c-49fe-9aab-1e4cc530e622"
      },
      "execution_count": 35,
      "outputs": [
        {
          "output_type": "stream",
          "name": "stdout",
          "text": [
            "Собрано текстов: 66\n",
            "Датасет сохранен в файл dataset.csv\n"
          ]
        }
      ]
    }
  ]
}